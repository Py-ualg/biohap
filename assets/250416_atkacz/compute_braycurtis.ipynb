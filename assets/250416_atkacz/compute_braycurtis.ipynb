{
 "cells": [
  {
   "cell_type": "markdown",
   "id": "6d91f414",
   "metadata": {},
   "source": [
    "# Compute Braycurtis distance matrix"
   ]
  },
  {
   "cell_type": "code",
   "execution_count": 3,
   "id": "7913c767",
   "metadata": {},
   "outputs": [],
   "source": [
    "import os\n",
    "import numpy as np\n",
    "import pandas as pd"
   ]
  },
  {
   "cell_type": "code",
   "execution_count": 4,
   "id": "64999502",
   "metadata": {},
   "outputs": [],
   "source": [
    "# File paths (all stored under the \"saved_matrices\" folder)\n",
    "OUTPUT_FOLDER = \"saved_matrices\"\n",
    "os.makedirs(OUTPUT_FOLDER, exist_ok=True)\n",
    "MATRIX_FILE = os.path.join(OUTPUT_FOLDER, \"braycurtis_matrix_columns.npy\")\n",
    "FEATURE_NAMES_FILE = os.path.join(OUTPUT_FOLDER, \"feature_names.txt\")\n",
    "OLD_TABLE_FILE = os.path.join(OUTPUT_FOLDER, \"old_asv_table.csv\")\n",
    "\n",
    "global DIM, new_ddf\n"
   ]
  },
  {
   "cell_type": "code",
   "execution_count": 5,
   "id": "c6353de8",
   "metadata": {},
   "outputs": [],
   "source": [
    "# A small epsilon to avoid division by zero\n",
    "EPSILON = 1e-12\n",
    "\n",
    "def update_progress(task, percent):\n",
    "    \"\"\"Print progress messages and flush immediately.\"\"\"\n",
    "    print(f\"Progress Update: {task} - {percent}% complete\", flush=True)"
   ]
  },
  {
   "cell_type": "markdown",
   "id": "9f7a02a5",
   "metadata": {},
   "source": [
    "## Parallel functions for new table internal distances"
   ]
  },
  {
   "cell_type": "code",
   "execution_count": 6,
   "id": "133c236e",
   "metadata": {},
   "outputs": [],
   "source": [
    "# # Global variables for new table internal computations.\n",
    "# new_table_global = None\n",
    "# m_global = None\n",
    "\n",
    "# def init_worker_new(table, m):\n",
    "#     \"\"\"Initializer for workers computing distances within new table.\"\"\"\n",
    "#     global new_table_global, m_global\n",
    "#     new_table_global = table\n",
    "#     m_global = m\n",
    "\n",
    "def compute_new_col(i):\n",
    "    \"\"\"Compute Bray–Curtis distances for new table's column i vs. columns j > i.\n",
    "    Returns (i, result_vector) where result_vector is a NumPy array of length m_global.\n",
    "    \"\"\"\n",
    "    row_result = np.zeros(DIM, dtype=np.float64)\n",
    "    x = new_ddf.iloc[:, i].values\n",
    "    for j in range(i+1, DIM):\n",
    "        y = new_ddf.iloc[:, j].values\n",
    "        # Compute sum(x+y) with safeguard\n",
    "        denom = np.sum(x + y)\n",
    "        if denom < EPSILON:\n",
    "            d = 0.0\n",
    "        else:\n",
    "            d = np.sum(np.abs(x - y)) / denom\n",
    "        row_result[j] = d\n",
    "    return i, row_result"
   ]
  },
  {
   "cell_type": "code",
   "execution_count": 7,
   "id": "43da921f",
   "metadata": {},
   "outputs": [],
   "source": [
    "# Global variables for cross-computation.\n",
    "old_table_global = None\n",
    "new_table_global_cross = None\n",
    "n_old_global = None\n",
    "m_global_for_cross = None  # number of new features"
   ]
  },
  {
   "cell_type": "markdown",
   "id": "76006050",
   "metadata": {},
   "source": [
    "## Main code"
   ]
  },
  {
   "cell_type": "code",
   "execution_count": 9,
   "id": "894d0309",
   "metadata": {},
   "outputs": [],
   "source": [
    "new_ddf = pd.read_csv(\n",
    "    \"ASV_table_MA.txt\",\n",
    "    sep=\"\\t\",\n",
    "    index_col=[0],\n",
    ")"
   ]
  },
  {
   "cell_type": "code",
   "execution_count": 10,
   "id": "a832c021",
   "metadata": {},
   "outputs": [
    {
     "data": {
      "text/html": [
       "<div>\n",
       "<style scoped>\n",
       "    .dataframe tbody tr th:only-of-type {\n",
       "        vertical-align: middle;\n",
       "    }\n",
       "\n",
       "    .dataframe tbody tr th {\n",
       "        vertical-align: top;\n",
       "    }\n",
       "\n",
       "    .dataframe thead th {\n",
       "        text-align: right;\n",
       "    }\n",
       "</style>\n",
       "<table border=\"1\" class=\"dataframe\">\n",
       "  <thead>\n",
       "    <tr style=\"text-align: right;\">\n",
       "      <th></th>\n",
       "      <th>SRR17045222</th>\n",
       "      <th>SRR17045223</th>\n",
       "      <th>SRR17045226</th>\n",
       "      <th>SRR17045227</th>\n",
       "    </tr>\n",
       "    <tr>\n",
       "      <th>#NAME</th>\n",
       "      <th></th>\n",
       "      <th></th>\n",
       "      <th></th>\n",
       "      <th></th>\n",
       "    </tr>\n",
       "  </thead>\n",
       "  <tbody>\n",
       "    <tr>\n",
       "      <th>ASV_1</th>\n",
       "      <td>932</td>\n",
       "      <td>0</td>\n",
       "      <td>0</td>\n",
       "      <td>0</td>\n",
       "    </tr>\n",
       "    <tr>\n",
       "      <th>ASV_10</th>\n",
       "      <td>0</td>\n",
       "      <td>373</td>\n",
       "      <td>0</td>\n",
       "      <td>0</td>\n",
       "    </tr>\n",
       "    <tr>\n",
       "      <th>ASV_100</th>\n",
       "      <td>0</td>\n",
       "      <td>135</td>\n",
       "      <td>0</td>\n",
       "      <td>0</td>\n",
       "    </tr>\n",
       "    <tr>\n",
       "      <th>ASV_1000</th>\n",
       "      <td>0</td>\n",
       "      <td>0</td>\n",
       "      <td>0</td>\n",
       "      <td>32</td>\n",
       "    </tr>\n",
       "    <tr>\n",
       "      <th>ASV_10000</th>\n",
       "      <td>0</td>\n",
       "      <td>1</td>\n",
       "      <td>10</td>\n",
       "      <td>0</td>\n",
       "    </tr>\n",
       "  </tbody>\n",
       "</table>\n",
       "</div>"
      ],
      "text/plain": [
       "           SRR17045222  SRR17045223  SRR17045226  SRR17045227\n",
       "#NAME                                                        \n",
       "ASV_1              932            0            0            0\n",
       "ASV_10               0          373            0            0\n",
       "ASV_100              0          135            0            0\n",
       "ASV_1000             0            0            0           32\n",
       "ASV_10000            0            1           10            0"
      ]
     },
     "execution_count": 10,
     "metadata": {},
     "output_type": "execute_result"
    }
   ],
   "source": [
    "new_ddf.head()"
   ]
  },
  {
   "cell_type": "code",
   "execution_count": 11,
   "id": "1ea98219",
   "metadata": {},
   "outputs": [
    {
     "name": "stdout",
     "output_type": "stream",
     "text": [
      "<class 'pandas.core.frame.DataFrame'>\n",
      "Index: 17868 entries, ASV_1 to ASV_9999\n",
      "Data columns (total 4 columns):\n",
      " #   Column       Non-Null Count  Dtype\n",
      "---  ------       --------------  -----\n",
      " 0   SRR17045222  17868 non-null  int64\n",
      " 1   SRR17045223  17868 non-null  int64\n",
      " 2   SRR17045226  17868 non-null  int64\n",
      " 3   SRR17045227  17868 non-null  int64\n",
      "dtypes: int64(4)\n",
      "memory usage: 698.0+ KB\n"
     ]
    }
   ],
   "source": [
    "new_ddf.info()"
   ]
  },
  {
   "cell_type": "code",
   "execution_count": 12,
   "id": "a0564852",
   "metadata": {},
   "outputs": [
    {
     "name": "stdout",
     "output_type": "stream",
     "text": [
      "Dropped NaN columns in new table\n",
      "New features: ['SRR17045222', 'SRR17045223', 'SRR17045226', 'SRR17045227']\n"
     ]
    }
   ],
   "source": [
    "\n",
    "\n",
    "# new_ddf = new_ddf.map_partitions(lambda df: df.apply(pd.to_numeric, errors=\"coerce\"))\n",
    "non_nan = new_ddf.isnull().sum() == 0\n",
    "\n",
    "good_cols = non_nan[non_nan].index.tolist()\n",
    "new_ddf = new_ddf[good_cols]\n",
    "print(\"Dropped NaN columns in new table\")\n",
    "\n",
    "new_features = list(new_ddf.columns)\n",
    "DIM = len(new_features)\n",
    "print(\"New features:\", new_features, flush=True)"
   ]
  },
  {
   "cell_type": "code",
   "execution_count": 13,
   "id": "5b995216",
   "metadata": {},
   "outputs": [
    {
     "name": "stdout",
     "output_type": "stream",
     "text": [
      "Old table exists. Entering append mode.\n",
      "Loaded old table with 4 features.\n"
     ]
    }
   ],
   "source": [
    "# Check if an old table already exists.\n",
    "if os.path.exists(OLD_TABLE_FILE) and os.path.exists(FEATURE_NAMES_FILE) and os.path.exists(MATRIX_FILE):\n",
    "    print(\"Old table exists. Entering append mode.\", flush=True)\n",
    "    old_table = pd.read_csv(OLD_TABLE_FILE, index_col=0)\n",
    "    old_features = list(old_table.columns)\n",
    "    n_old = len(old_features)\n",
    "    print(f\"Loaded old table with {n_old} features.\", flush=True)\n",
    "    # Load the existing BC matrix.\n",
    "    existing_matrix = np.load(MATRIX_FILE)\n",
    "else:\n",
    "    print(\"No old table found. This run will create the initial BC matrix.\", flush=True)\n",
    "    # Compute BC matrix for new table only (internal comparisons)\n",
    "    M_new = np.zeros((DIM, DIM), dtype=np.float64)\n",
    "    for i in range(DIM):\n",
    "        _, row_result = compute_new_col(i)\n",
    "        M_new[i, :] = row_result\n",
    "        for j in range(i + 1, DIM):\n",
    "            M_new[j, i] = row_result[j]\n",
    "        update_progress(f\"Processed new feature {i+1} of {DIM}\", int((i+1)/DIM * 100))\n",
    "\n",
    "    # Force symmetry and set diagonal to zero\n",
    "    M_new = (M_new + M_new.T) / 2\n",
    "    np.fill_diagonal(M_new, 0)\n",
    "\n",
    "    # Save as the new BC matrix.\n",
    "    np.save(MATRIX_FILE, M_new)\n",
    "    with open(FEATURE_NAMES_FILE, \"w\") as f:\n",
    "        for feat in new_features:\n",
    "            f.write(feat + \"\\n\")\n",
    "    # Save new_table as old_table for future appends.\n",
    "    new_ddf.to_csv(OLD_TABLE_FILE)\n",
    "    print(\"Initial BC matrix computed and saved.\", flush=True)\n",
    "    update_progress(\"All tasks complete\", 100)"
   ]
  },
  {
   "cell_type": "code",
   "execution_count": 14,
   "id": "d4c74678",
   "metadata": {},
   "outputs": [
    {
     "ename": "NameError",
     "evalue": "name 'M_new' is not defined",
     "output_type": "error",
     "traceback": [
      "\u001b[31m---------------------------------------------------------------------------\u001b[39m",
      "\u001b[31mNameError\u001b[39m                                 Traceback (most recent call last)",
      "\u001b[36mCell\u001b[39m\u001b[36m \u001b[39m\u001b[32mIn[14]\u001b[39m\u001b[32m, line 1\u001b[39m\n\u001b[32m----> \u001b[39m\u001b[32m1\u001b[39m \u001b[43mM_new\u001b[49m.shape\n",
      "\u001b[31mNameError\u001b[39m: name 'M_new' is not defined"
     ]
    }
   ],
   "source": [
    "M_new.shape"
   ]
  },
  {
   "cell_type": "code",
   "execution_count": 42,
   "id": "2e099502",
   "metadata": {},
   "outputs": [
    {
     "data": {
      "text/plain": [
       "array([[0.        , 0.49173138, 0.48670194, 0.49478497],\n",
       "       [0.49173138, 0.        , 0.48606561, 0.48278666],\n",
       "       [0.48670194, 0.48606561, 0.        , 0.48015266],\n",
       "       [0.49478497, 0.48278666, 0.48015266, 0.        ]])"
      ]
     },
     "execution_count": 42,
     "metadata": {},
     "output_type": "execute_result"
    }
   ],
   "source": [
    "M_new"
   ]
  },
  {
   "cell_type": "code",
   "execution_count": null,
   "id": "6853506d",
   "metadata": {},
   "outputs": [],
   "source": []
  }
 ],
 "metadata": {
  "kernelspec": {
   "display_name": "biohap",
   "language": "python",
   "name": "biohap"
  },
  "language_info": {
   "codemirror_mode": {
    "name": "ipython",
    "version": 3
   },
   "file_extension": ".py",
   "mimetype": "text/x-python",
   "name": "python",
   "nbconvert_exporter": "python",
   "pygments_lexer": "ipython3",
   "version": "3.13.2"
  }
 },
 "nbformat": 4,
 "nbformat_minor": 5
}
