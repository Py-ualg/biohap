{
 "cells": [
  {
   "cell_type": "markdown",
   "id": "24e8e32b",
   "metadata": {},
   "source": [
    "# Visualize Braycurtis matrices"
   ]
  },
  {
   "cell_type": "code",
   "execution_count": 1,
   "id": "3ee34175",
   "metadata": {},
   "outputs": [],
   "source": [
    "import os\n",
    "import sys\n",
    "import numpy as np\n",
    "import pandas as pd\n",
    "import matplotlib.pyplot as plt\n",
    "import seaborn as sns\n",
    "import panel as pn\n",
    "from skbio.stats.ordination import pcoa\n",
    "from sklearn.manifold import MDS"
   ]
  },
  {
   "cell_type": "code",
   "execution_count": 2,
   "id": "f45a422a",
   "metadata": {},
   "outputs": [],
   "source": [
    "\n",
    "OUTPUT_FOLDER = \"./saved_matrices\"\n",
    "MATRIX_FILE = os.path.join(OUTPUT_FOLDER, \"braycurtis_matrix_columns.npy\")\n",
    "FEATURE_NAMES_FILE = os.path.join(OUTPUT_FOLDER, \"feature_names.txt\")\n",
    "METADATA_FILE = \"./metadata.csv\"\n",
    "\n",
    "# Intermediate product files\n",
    "PCOA_RESULTS_FILE = os.path.join(OUTPUT_FOLDER, \"pcoa_results.csv\")\n",
    "MERGED_DF_FILE = os.path.join(OUTPUT_FOLDER, \"merged_df.csv\")"
   ]
  },
  {
   "cell_type": "markdown",
   "id": "602b7fe5",
   "metadata": {},
   "source": [
    "## Load Saved Bray–Curtis Matrix and Sample/Feature Names"
   ]
  },
  {
   "cell_type": "code",
   "execution_count": 3,
   "id": "f0bd255f",
   "metadata": {},
   "outputs": [],
   "source": [
    "if not os.path.exists(MATRIX_FILE) or not os.path.exists(FEATURE_NAMES_FILE):\n",
    "    sys.exit(\"Error: Required BC matrix or feature names file not found in 'saved_matrices'.\")\n",
    "\n",
    "distance_matrix = np.load(MATRIX_FILE)\n",
    "with open(FEATURE_NAMES_FILE, \"r\") as f:\n",
    "    samples = [line.strip() for line in f if line.strip()]"
   ]
  },
  {
   "cell_type": "markdown",
   "id": "3f6de824",
   "metadata": {},
   "source": [
    "## Compute or Load PCoA (or fallback to MDS)"
   ]
  },
  {
   "cell_type": "code",
   "execution_count": 4,
   "id": "ee9b2759",
   "metadata": {},
   "outputs": [
    {
     "name": "stdout",
     "output_type": "stream",
     "text": [
      "Loading saved PCoA results...\n",
      "PCoA/MDS coordinates (first 5 rows):\n",
      "                  PC1       PC2\n",
      "SRR17045222  0.288098 -0.029667\n",
      "SRR17045223 -0.104105 -0.263259\n",
      "SRR17045226 -0.012270  0.197190\n",
      "SRR17045227 -0.171723  0.095736\n"
     ]
    }
   ],
   "source": [
    "if os.path.exists(PCOA_RESULTS_FILE):\n",
    "    print(\"Loading saved PCoA results...\")\n",
    "    pcoa_df = pd.read_csv(PCOA_RESULTS_FILE, index_col=0)\n",
    "    used_pcoa = True\n",
    "    # When loading saved results, we don't have actual proportions.\n",
    "    prop_explained = np.array([0, 0])\n",
    "else:\n",
    "    used_pcoa = True\n",
    "    try:\n",
    "        pcoa_results = pcoa(distance_matrix)\n",
    "        pcoa_df = pcoa_results.samples.iloc[:, :2].copy()\n",
    "        pcoa_df.index = samples\n",
    "        pcoa_df.columns = [\"PC1\", \"PC2\"]\n",
    "        prop_explained = pcoa_results.proportion_explained.iloc[:2].values\n",
    "    except Exception as e:\n",
    "        print(f\"PCoA failed due to: {e}\")\n",
    "        used_pcoa = False\n",
    "        mds = MDS(n_components=2, dissimilarity=\"precomputed\", random_state=42)\n",
    "        coords = mds.fit_transform(distance_matrix)\n",
    "        pcoa_df = pd.DataFrame(coords, index=samples, columns=[\"PC1\", \"PC2\"])\n",
    "        prop_explained = np.array([0, 0])\n",
    "    pcoa_df.to_csv(PCOA_RESULTS_FILE)\n",
    "    print(\"PCoA results computed and saved.\")\n",
    "\n",
    "print(\"PCoA/MDS coordinates (first 5 rows):\")\n",
    "print(pcoa_df.head())"
   ]
  },
  {
   "cell_type": "markdown",
   "id": "560c5aeb",
   "metadata": {},
   "source": [
    "## Load Metadata and Merge with PCoA Results"
   ]
  },
  {
   "cell_type": "code",
   "execution_count": 6,
   "id": "2bfa3507",
   "metadata": {},
   "outputs": [
    {
     "name": "stdout",
     "output_type": "stream",
     "text": [
      "Metadata loaded. Index (first 5): ['SRR17045222', 'SRR17045223', 'SRR17045226', 'SRR17045227']\n",
      "Merged dataframe computed and saved.\n"
     ]
    }
   ],
   "source": [
    "try:\n",
    "    metadata = pd.read_csv(METADATA_FILE, sep=\",\", index_col=\"#NAME\")\n",
    "    print(\"Metadata loaded. Index (first 5):\", metadata.index[:5].tolist())\n",
    "except FileNotFoundError:\n",
    "    sys.exit(f\"Error: Metadata file not found: {METADATA_FILE}\")\n",
    "\n",
    "if os.path.exists(MERGED_DF_FILE):\n",
    "    print(\"Loading saved merged dataframe...\")\n",
    "    merged_df = pd.read_csv(MERGED_DF_FILE, index_col=0)\n",
    "else:\n",
    "    merged_df = pcoa_df.join(metadata, how=\"inner\")\n",
    "    if merged_df.empty:\n",
    "        print(\"WARNING: The merged dataframe is empty. Check sample IDs vs 'Run' in metadata.\")\n",
    "    merged_df.to_csv(MERGED_DF_FILE)\n",
    "    print(\"Merged dataframe computed and saved.\")"
   ]
  },
  {
   "cell_type": "markdown",
   "id": "d571d38b",
   "metadata": {},
   "source": [
    "## Precompute Zoom Bounds for Plotting"
   ]
  },
  {
   "cell_type": "code",
   "execution_count": 7,
   "id": "31a72de4",
   "metadata": {},
   "outputs": [],
   "source": [
    "x_min, x_max = merged_df[\"PC1\"].min(), merged_df[\"PC1\"].max()\n",
    "y_min, y_max = merged_df[\"PC2\"].min(), merged_df[\"PC2\"].max()\n",
    "x_center = 0.5 * (x_min + x_max)\n",
    "y_center = 0.5 * (y_min + y_max)\n",
    "x_half_range = 0.5 * (x_max - x_min)\n",
    "y_half_range = 0.5 * (y_max - y_min)"
   ]
  },
  {
   "cell_type": "markdown",
   "id": "e867f61d",
   "metadata": {},
   "source": [
    "## Define Plotting Function for Panel Interactivity"
   ]
  },
  {
   "cell_type": "code",
   "execution_count": 8,
   "id": "fd5e92fc",
   "metadata": {},
   "outputs": [],
   "source": [
    "def plot_pcoa(color_factor, shape_factor, show_names, marker_size, zoom, highlight_factor, highlight_cats, point_color=None, legend_marker_size=None):\n",
    "    fig, ax = plt.subplots(figsize=(10, 8))\n",
    "    \n",
    "    # Set default legend marker size if not provided\n",
    "    if legend_marker_size is None:\n",
    "        legend_marker_size = marker_size * 1.5\n",
    "\n",
    "    # Determine whether to use highlight mode\n",
    "    use_highlight = (highlight_factor is not None) and (highlight_factor in merged_df.columns) \\\n",
    "                    and (highlight_cats is not None) and (len(highlight_cats) > 0)\n",
    "    \n",
    "    if use_highlight:\n",
    "        others_df = merged_df[~merged_df[highlight_factor].isin(highlight_cats)]\n",
    "        highlight_df = merged_df[merged_df[highlight_factor].isin(highlight_cats)]\n",
    "        style_var = shape_factor if (shape_factor in merged_df.columns) else None\n",
    "        sns.scatterplot(data=others_df, x=\"PC1\", y=\"PC2\", color=\"lightgray\", style=style_var,\n",
    "                        s=marker_size, edgecolor=\"black\", zorder=1, ax=ax)\n",
    "        palette = sns.color_palette(\"tab10\", len(highlight_cats))\n",
    "        for i, cat in enumerate(highlight_cats):\n",
    "            sub = highlight_df[highlight_df[highlight_factor] == cat]\n",
    "            sns.scatterplot(data=sub, x=\"PC1\", y=\"PC2\", color=palette[i], style=style_var,\n",
    "                            s=marker_size, edgecolor=\"black\", zorder=2, ax=ax, label=f\"{highlight_factor}={cat}\")\n",
    "        if show_names:\n",
    "            for sample, row in highlight_df.iterrows():\n",
    "                x_val, y_val = row[\"PC1\"], row[\"PC2\"]\n",
    "                if np.isfinite(x_val) and np.isfinite(y_val):\n",
    "                    ax.text(x_val, y_val, sample, fontsize=9, ha=\"right\")\n",
    "        ax.set_title(f\"PCoA - Highlight: '{highlight_factor}' -> {highlight_cats}\")\n",
    "        ax.legend(bbox_to_anchor=(1.05, 1), loc=\"upper left\")\n",
    "    else:\n",
    "        # Use point_color if provided and no valid hue column is set.\n",
    "        if color_factor is None or color_factor == \"(None)\" or color_factor not in merged_df.columns:\n",
    "            scatter = sns.scatterplot(data=merged_df, x=\"PC1\", y=\"PC2\",\n",
    "                                      color=point_color if point_color is not None else \"blue\",\n",
    "                                      style=shape_factor if shape_factor != \"(None)\" and shape_factor in merged_df.columns else None,\n",
    "                                      s=marker_size, edgecolor=\"black\",\n",
    "                                      ax=ax)\n",
    "        else:\n",
    "            custom_palette = sns.color_palette(\"tab20\", 20)\n",
    "            scatter = sns.scatterplot(data=merged_df, x=\"PC1\", y=\"PC2\",\n",
    "                                      hue=color_factor, style=shape_factor if shape_factor != \"(None)\" and shape_factor in merged_df.columns else None,\n",
    "                                      s=marker_size, edgecolor=\"black\",\n",
    "                                      palette=custom_palette, ax=ax)\n",
    "        if show_names:\n",
    "            for sample, row in merged_df.iterrows():\n",
    "                x_val, y_val = row[\"PC1\"], row[\"PC2\"]\n",
    "                if np.isfinite(x_val) and np.isfinite(y_val):\n",
    "                    ax.text(x_val, y_val, sample, fontsize=9, ha=\"right\")\n",
    "        if used_pcoa and not np.allclose(prop_explained, [0, 0]):\n",
    "            xlabel = f\"PC1 ({prop_explained[0]*100:.2f}%)\"\n",
    "            ylabel = f\"PC2 ({prop_explained[1]*100:.2f}%)\"\n",
    "        else:\n",
    "            xlabel, ylabel = \"PC1\", \"PC2\"\n",
    "        ax.set_xlabel(xlabel)\n",
    "        ax.set_ylabel(ylabel)\n",
    "        ax.set_title(f\"PCoA Plot - Color={color_factor}, Shape={shape_factor}\")\n",
    "        ax.legend(bbox_to_anchor=(1.05, 1), loc=\"upper left\")\n",
    "    \n",
    "    # Increase legend marker sizes if legend exists (use legend_handles attribute)\n",
    "    leg = ax.get_legend()\n",
    "    if leg:\n",
    "        for handle in leg.legend_handles:\n",
    "            try:\n",
    "                handle.set_sizes([legend_marker_size])\n",
    "            except Exception:\n",
    "                pass\n",
    "\n",
    "    cur_x_half = x_half_range / zoom\n",
    "    cur_y_half = y_half_range / zoom\n",
    "    ax.set_xlim(x_center - cur_x_half, x_center + cur_x_half)\n",
    "    ax.set_ylim(y_center - cur_y_half, y_center + cur_y_half)\n",
    "    ax.grid(True)\n",
    "    plt.close(fig)\n",
    "    return fig"
   ]
  },
  {
   "cell_type": "markdown",
   "id": "871eba68",
   "metadata": {},
   "source": [
    "## Function to Save Plot as PNG"
   ]
  },
  {
   "cell_type": "code",
   "execution_count": 9,
   "id": "5b3b7ee9",
   "metadata": {},
   "outputs": [],
   "source": [
    "def save_plot_as_png(filename, color_factor, shape_factor, show_names, marker_size, zoom, highlight_factor, highlight_cats, point_color=None, legend_marker_size=None):\n",
    "    \"\"\"\n",
    "    Generate a PCoA/MDS plot using the provided parameters and save it as a PNG file.\n",
    "    \"\"\"\n",
    "    fig = plot_pcoa(color_factor, shape_factor, show_names, marker_size, zoom, highlight_factor, highlight_cats, point_color, legend_marker_size)\n",
    "    fig.savefig(filename, dpi=300, bbox_inches=\"tight\")\n",
    "    print(f\"Plot saved as PNG: {filename}\")"
   ]
  },
  {
   "cell_type": "markdown",
   "id": "43700159",
   "metadata": {},
   "source": [
    "## Panel Widgets setup"
   ]
  },
  {
   "cell_type": "code",
   "execution_count": 10,
   "id": "5f25dd9f",
   "metadata": {},
   "outputs": [
    {
     "name": "stderr",
     "output_type": "stream",
     "text": [
      "/tmp/ipykernel_39466/2439649316.py:57: UserWarning: No artists with labels found to put in legend.  Note that artists whose label start with an underscore are ignored when legend() is called with no argument.\n",
      "  ax.legend(bbox_to_anchor=(1.05, 1), loc=\"upper left\")\n"
     ]
    },
    {
     "data": {
      "text/plain": [
       "Watcher(inst=Button(button_type='primary', name='Save Plot as PNG'), cls=<class 'panel.widgets.button.Button'>, fn=<function on_save at 0x72be2246c720>, mode='args', onlychanged=False, parameter_names=('clicks',), what='value', queued=False, precedence=0)"
      ]
     },
     "execution_count": 10,
     "metadata": {},
     "output_type": "execute_result"
    }
   ],
   "source": [
    "color_dropdown = pn.widgets.Select(name=\"Select Color Factor\", options=[\"(None)\"] + list(metadata.columns), value=\"(None)\")\n",
    "shape_dropdown = pn.widgets.Select(name=\"Select Shape Factor\", options=[\"(None)\"] + list(metadata.columns), value=\"(None)\")\n",
    "show_names_checkbox = pn.widgets.Checkbox(name=\"Show Sample Names\", value=True)\n",
    "marker_size_slider = pn.widgets.IntSlider(name=\"Marker Size\", value=100, start=10, end=300, step=10)\n",
    "zoom_slider = pn.widgets.FloatSlider(name=\"Zoom\", value=1.0, start=0.2, end=3.0, step=0.1)\n",
    "legend_marker_size_slider = pn.widgets.IntSlider(name=\"Legend Marker Size\", value=150, start=10, end=500, step=10)\n",
    "highlight_factor_dropdown = pn.widgets.Select(name=\"Highlight Factor\", options=[\"(None)\"] + list(metadata.columns), value=\"(None)\")\n",
    "highlight_categories_widget = pn.widgets.MultiSelect(name=\"Highlight Categories\", options=[], size=6)\n",
    "\n",
    "def update_highlight_categories(event):\n",
    "    factor = event.new\n",
    "    if factor == \"(None)\":\n",
    "        highlight_categories_widget.options = []\n",
    "    else:\n",
    "        if factor in merged_df.columns:\n",
    "            cats = merged_df[factor].dropna().unique().tolist()\n",
    "            cats = sorted(map(str, cats))\n",
    "            highlight_categories_widget.options = cats\n",
    "        else:\n",
    "            highlight_categories_widget.options = []\n",
    "\n",
    "highlight_factor_dropdown.param.watch(update_highlight_categories, \"value\")\n",
    "\n",
    "# ============================================================\n",
    "# 8. Panel Callback & Layout\n",
    "# ============================================================\n",
    "def make_initial_figure():\n",
    "    return plot_pcoa(\n",
    "        color_factor=color_dropdown.value if color_dropdown.value != \"(None)\" else None,\n",
    "        shape_factor=shape_dropdown.value if shape_dropdown.value != \"(None)\" else None,\n",
    "        show_names=show_names_checkbox.value,\n",
    "        marker_size=marker_size_slider.value,\n",
    "        zoom=zoom_slider.value,\n",
    "        highlight_factor=None,\n",
    "        highlight_cats=None,\n",
    "        legend_marker_size=legend_marker_size_slider.value\n",
    "    )\n",
    "\n",
    "matplot_pane = pn.pane.Matplotlib(make_initial_figure(), tight=True)\n",
    "\n",
    "@pn.depends(color_dropdown.param.value,\n",
    "            shape_dropdown.param.value,\n",
    "            show_names_checkbox.param.value,\n",
    "            marker_size_slider.param.value,\n",
    "            zoom_slider.param.value,\n",
    "            legend_marker_size_slider.param.value,\n",
    "            highlight_factor_dropdown.param.value,\n",
    "            highlight_categories_widget.param.value)\n",
    "def update_plot(color_factor, shape_factor, show_names, marker_size, zoom, legend_marker_size, highlight_factor, highlight_cats):\n",
    "    if highlight_factor == \"(None)\":\n",
    "        highlight_factor = None\n",
    "    if color_factor == \"(None)\":\n",
    "        color_factor = None\n",
    "    if shape_factor == \"(None)\":\n",
    "        shape_factor = None\n",
    "    if not highlight_cats:\n",
    "        highlight_cats = []\n",
    "    fig = plot_pcoa(color_factor, shape_factor, show_names, marker_size, zoom, highlight_factor, highlight_cats, legend_marker_size=legend_marker_size)\n",
    "    matplot_pane.object = fig\n",
    "    return matplot_pane\n",
    "\n",
    "# Button to save the current plot as PNG\n",
    "save_button = pn.widgets.Button(name=\"Save Plot as PNG\", button_type=\"primary\")\n",
    "def on_save(event):\n",
    "    save_plot_as_png(\n",
    "        filename=\"pcoa_plot.png\",\n",
    "        color_factor=color_dropdown.value if color_dropdown.value != \"(None)\" else None,\n",
    "        shape_factor=shape_dropdown.value if shape_dropdown.value != \"(None)\" else None,\n",
    "        show_names=show_names_checkbox.value,\n",
    "        marker_size=marker_size_slider.value,\n",
    "        zoom=zoom_slider.value,\n",
    "        highlight_factor=highlight_factor_dropdown.value if highlight_factor_dropdown.value != \"(None)\" else None,\n",
    "        highlight_cats=highlight_categories_widget.value,\n",
    "        point_color=None,  # Change if you want a fixed color\n",
    "        legend_marker_size=legend_marker_size_slider.value\n",
    "    )\n",
    "save_button.on_click(on_save)"
   ]
  },
  {
   "cell_type": "code",
   "execution_count": 11,
   "id": "2120dd15",
   "metadata": {},
   "outputs": [
    {
     "name": "stdout",
     "output_type": "stream",
     "text": [
      "Launching server at http://localhost:36711\n"
     ]
    },
    {
     "name": "stderr",
     "output_type": "stream",
     "text": [
      "/tmp/ipykernel_39466/2439649316.py:57: UserWarning: No artists with labels found to put in legend.  Note that artists whose label start with an underscore are ignored when legend() is called with no argument.\n",
      "  ax.legend(bbox_to_anchor=(1.05, 1), loc=\"upper left\")\n"
     ]
    },
    {
     "data": {
      "text/plain": [
       "<panel.io.server.Server at 0x72be22462510>"
      ]
     },
     "execution_count": 11,
     "metadata": {},
     "output_type": "execute_result"
    },
    {
     "name": "stderr",
     "output_type": "stream",
     "text": [
      "Gtk-Message: 18:12:08.197: Not loading module \"atk-bridge\": The functionality is provided by GTK natively. Please try to not load it.\n",
      "/tmp/ipykernel_39466/2439649316.py:57: UserWarning: No artists with labels found to put in legend.  Note that artists whose label start with an underscore are ignored when legend() is called with no argument.\n",
      "  ax.legend(bbox_to_anchor=(1.05, 1), loc=\"upper left\")\n",
      "/tmp/ipykernel_39466/2439649316.py:57: UserWarning: No artists with labels found to put in legend.  Note that artists whose label start with an underscore are ignored when legend() is called with no argument.\n",
      "  ax.legend(bbox_to_anchor=(1.05, 1), loc=\"upper left\")\n",
      "/tmp/ipykernel_39466/2439649316.py:57: UserWarning: No artists with labels found to put in legend.  Note that artists whose label start with an underscore are ignored when legend() is called with no argument.\n",
      "  ax.legend(bbox_to_anchor=(1.05, 1), loc=\"upper left\")\n",
      "/tmp/ipykernel_39466/2439649316.py:57: UserWarning: No artists with labels found to put in legend.  Note that artists whose label start with an underscore are ignored when legend() is called with no argument.\n",
      "  ax.legend(bbox_to_anchor=(1.05, 1), loc=\"upper left\")\n",
      "/tmp/ipykernel_39466/2439649316.py:57: UserWarning: No artists with labels found to put in legend.  Note that artists whose label start with an underscore are ignored when legend() is called with no argument.\n",
      "  ax.legend(bbox_to_anchor=(1.05, 1), loc=\"upper left\")\n",
      "/tmp/ipykernel_39466/2439649316.py:57: UserWarning: No artists with labels found to put in legend.  Note that artists whose label start with an underscore are ignored when legend() is called with no argument.\n",
      "  ax.legend(bbox_to_anchor=(1.05, 1), loc=\"upper left\")\n",
      "/tmp/ipykernel_39466/2439649316.py:57: UserWarning: No artists with labels found to put in legend.  Note that artists whose label start with an underscore are ignored when legend() is called with no argument.\n",
      "  ax.legend(bbox_to_anchor=(1.05, 1), loc=\"upper left\")\n",
      "/tmp/ipykernel_39466/2439649316.py:57: UserWarning: No artists with labels found to put in legend.  Note that artists whose label start with an underscore are ignored when legend() is called with no argument.\n",
      "  ax.legend(bbox_to_anchor=(1.05, 1), loc=\"upper left\")\n",
      "/tmp/ipykernel_39466/2439649316.py:57: UserWarning: No artists with labels found to put in legend.  Note that artists whose label start with an underscore are ignored when legend() is called with no argument.\n",
      "  ax.legend(bbox_to_anchor=(1.05, 1), loc=\"upper left\")\n",
      "/tmp/ipykernel_39466/2439649316.py:57: UserWarning: No artists with labels found to put in legend.  Note that artists whose label start with an underscore are ignored when legend() is called with no argument.\n",
      "  ax.legend(bbox_to_anchor=(1.05, 1), loc=\"upper left\")\n",
      "/tmp/ipykernel_39466/2439649316.py:57: UserWarning: No artists with labels found to put in legend.  Note that artists whose label start with an underscore are ignored when legend() is called with no argument.\n",
      "  ax.legend(bbox_to_anchor=(1.05, 1), loc=\"upper left\")\n",
      "/tmp/ipykernel_39466/2439649316.py:57: UserWarning: No artists with labels found to put in legend.  Note that artists whose label start with an underscore are ignored when legend() is called with no argument.\n",
      "  ax.legend(bbox_to_anchor=(1.05, 1), loc=\"upper left\")\n",
      "/tmp/ipykernel_39466/2439649316.py:57: UserWarning: No artists with labels found to put in legend.  Note that artists whose label start with an underscore are ignored when legend() is called with no argument.\n",
      "  ax.legend(bbox_to_anchor=(1.05, 1), loc=\"upper left\")\n",
      "/tmp/ipykernel_39466/2439649316.py:57: UserWarning: No artists with labels found to put in legend.  Note that artists whose label start with an underscore are ignored when legend() is called with no argument.\n",
      "  ax.legend(bbox_to_anchor=(1.05, 1), loc=\"upper left\")\n",
      "/tmp/ipykernel_39466/2439649316.py:57: UserWarning: No artists with labels found to put in legend.  Note that artists whose label start with an underscore are ignored when legend() is called with no argument.\n",
      "  ax.legend(bbox_to_anchor=(1.05, 1), loc=\"upper left\")\n",
      "/tmp/ipykernel_39466/2439649316.py:57: UserWarning: No artists with labels found to put in legend.  Note that artists whose label start with an underscore are ignored when legend() is called with no argument.\n",
      "  ax.legend(bbox_to_anchor=(1.05, 1), loc=\"upper left\")\n",
      "/tmp/ipykernel_39466/2439649316.py:57: UserWarning: No artists with labels found to put in legend.  Note that artists whose label start with an underscore are ignored when legend() is called with no argument.\n",
      "  ax.legend(bbox_to_anchor=(1.05, 1), loc=\"upper left\")\n",
      "/tmp/ipykernel_39466/2439649316.py:57: UserWarning: No artists with labels found to put in legend.  Note that artists whose label start with an underscore are ignored when legend() is called with no argument.\n",
      "  ax.legend(bbox_to_anchor=(1.05, 1), loc=\"upper left\")\n",
      "/tmp/ipykernel_39466/2439649316.py:40: UserWarning: The palette list has more values (20) than needed (2), which may not be intended.\n",
      "  scatter = sns.scatterplot(data=merged_df, x=\"PC1\", y=\"PC2\",\n",
      "/tmp/ipykernel_39466/2439649316.py:40: UserWarning: The palette list has more values (20) than needed (2), which may not be intended.\n",
      "  scatter = sns.scatterplot(data=merged_df, x=\"PC1\", y=\"PC2\",\n"
     ]
    }
   ],
   "source": [
    "app = pn.Column(\n",
    "    pn.Row(\n",
    "        pn.Column(\"<br/>**Normal Coloring**<br/>\", color_dropdown, shape_dropdown),\n",
    "        pn.Column(\"<br/>**Highlight**<br/>\", highlight_factor_dropdown, highlight_categories_widget)\n",
    "    ),\n",
    "    pn.Row(show_names_checkbox, marker_size_slider, zoom_slider, legend_marker_size_slider),\n",
    "    update_plot,\n",
    "    save_button\n",
    ")\n",
    "\n",
    "pn.serve(app, start=True, show=True)"
   ]
  },
  {
   "cell_type": "code",
   "execution_count": null,
   "id": "b329cb5a",
   "metadata": {},
   "outputs": [],
   "source": []
  }
 ],
 "metadata": {
  "kernelspec": {
   "display_name": "biohap",
   "language": "python",
   "name": "biohap"
  },
  "language_info": {
   "codemirror_mode": {
    "name": "ipython",
    "version": 3
   },
   "file_extension": ".py",
   "mimetype": "text/x-python",
   "name": "python",
   "nbconvert_exporter": "python",
   "pygments_lexer": "ipython3",
   "version": "3.13.2"
  }
 },
 "nbformat": 4,
 "nbformat_minor": 5
}
