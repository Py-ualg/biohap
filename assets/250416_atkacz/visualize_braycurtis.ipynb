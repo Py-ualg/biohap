{
 "cells": [
  {
   "cell_type": "markdown",
   "id": "24e8e32b",
   "metadata": {},
   "source": [
    "# Visualize Braycurtis matrices"
   ]
  },
  {
   "cell_type": "code",
   "execution_count": 1,
   "id": "3ee34175",
   "metadata": {},
   "outputs": [],
   "source": [
    "import os\n",
    "import sys\n",
    "import numpy as np\n",
    "import pandas as pd\n",
    "import matplotlib.pyplot as plt\n",
    "import seaborn as sns\n",
    "import panel as pn\n",
    "from skbio.stats.ordination import pcoa\n",
    "from sklearn.manifold import MDS"
   ]
  },
  {
   "cell_type": "code",
   "execution_count": 2,
   "id": "f45a422a",
   "metadata": {},
   "outputs": [],
   "source": [
    "\n",
    "OUTPUT_FOLDER = \"./saved_matrices\"\n",
    "MATRIX_FILE = os.path.join(OUTPUT_FOLDER, \"braycurtis_matrix_columns.npy\")\n",
    "FEATURE_NAMES_FILE = os.path.join(OUTPUT_FOLDER, \"feature_names.txt\")\n",
    "METADATA_FILE = \"./metadata.csv\"\n",
    "\n",
    "# Intermediate product files\n",
    "PCOA_RESULTS_FILE = os.path.join(OUTPUT_FOLDER, \"pcoa_results.csv\")\n",
    "MERGED_DF_FILE = os.path.join(OUTPUT_FOLDER, \"merged_df.csv\")"
   ]
  },
  {
   "cell_type": "markdown",
   "id": "602b7fe5",
   "metadata": {},
   "source": [
    "## Load Saved Bray–Curtis Matrix and Sample/Feature Names"
   ]
  },
  {
   "cell_type": "code",
   "execution_count": 3,
   "id": "f0bd255f",
   "metadata": {},
   "outputs": [],
   "source": [
    "if not os.path.exists(MATRIX_FILE) or not os.path.exists(FEATURE_NAMES_FILE):\n",
    "    sys.exit(\"Error: Required BC matrix or feature names file not found in 'saved_matrices'.\")\n",
    "\n",
    "distance_matrix = np.load(MATRIX_FILE)\n",
    "with open(FEATURE_NAMES_FILE, \"r\") as f:\n",
    "    samples = [line.strip() for line in f if line.strip()]"
   ]
  },
  {
   "cell_type": "markdown",
   "id": "3f6de824",
   "metadata": {},
   "source": [
    "## Compute or Load PCoA (or fallback to MDS)"
   ]
  },
  {
   "cell_type": "code",
   "execution_count": 4,
   "id": "ee9b2759",
   "metadata": {},
   "outputs": [
    {
     "name": "stdout",
     "output_type": "stream",
     "text": [
      "Loading saved PCoA results...\n",
      "PCoA/MDS coordinates (first 5 rows):\n",
      "                  PC1       PC2\n",
      "SRR17045222  0.288098 -0.029667\n",
      "SRR17045223 -0.104105 -0.263259\n",
      "SRR17045226 -0.012270  0.197190\n",
      "SRR17045227 -0.171723  0.095736\n"
     ]
    }
   ],
   "source": [
    "if os.path.exists(PCOA_RESULTS_FILE):\n",
    "    print(\"Loading saved PCoA results...\")\n",
    "    pcoa_df = pd.read_csv(PCOA_RESULTS_FILE, index_col=0)\n",
    "    used_pcoa = True\n",
    "    # When loading saved results, we don't have actual proportions.\n",
    "    prop_explained = np.array([0, 0])\n",
    "else:\n",
    "    used_pcoa = True\n",
    "    try:\n",
    "        pcoa_results = pcoa(distance_matrix)\n",
    "        pcoa_df = pcoa_results.samples.iloc[:, :2].copy()\n",
    "        pcoa_df.index = samples\n",
    "        pcoa_df.columns = [\"PC1\", \"PC2\"]\n",
    "        prop_explained = pcoa_results.proportion_explained.iloc[:2].values\n",
    "    except Exception as e:\n",
    "        print(f\"PCoA failed due to: {e}\")\n",
    "        used_pcoa = False\n",
    "        mds = MDS(n_components=2, dissimilarity=\"precomputed\", random_state=42)\n",
    "        coords = mds.fit_transform(distance_matrix)\n",
    "        pcoa_df = pd.DataFrame(coords, index=samples, columns=[\"PC1\", \"PC2\"])\n",
    "        prop_explained = np.array([0, 0])\n",
    "    pcoa_df.to_csv(PCOA_RESULTS_FILE)\n",
    "    print(\"PCoA results computed and saved.\")\n",
    "\n",
    "print(\"PCoA/MDS coordinates (first 5 rows):\")\n",
    "print(pcoa_df.head())"
   ]
  },
  {
   "cell_type": "markdown",
   "id": "560c5aeb",
   "metadata": {},
   "source": [
    "## Load Metadata and Merge with PCoA Results"
   ]
  },
  {
   "cell_type": "code",
   "execution_count": 6,
   "id": "2bfa3507",
   "metadata": {},
   "outputs": [
    {
     "name": "stdout",
     "output_type": "stream",
     "text": [
      "Metadata loaded. Index (first 5): ['SRR17045222', 'SRR17045223', 'SRR17045226', 'SRR17045227']\n",
      "Merged dataframe computed and saved.\n"
     ]
    }
   ],
   "source": [
    "try:\n",
    "    metadata = pd.read_csv(METADATA_FILE, sep=\",\", index_col=\"#NAME\")\n",
    "    print(\"Metadata loaded. Index (first 5):\", metadata.index[:5].tolist())\n",
    "except FileNotFoundError:\n",
    "    sys.exit(f\"Error: Metadata file not found: {METADATA_FILE}\")\n",
    "\n",
    "if os.path.exists(MERGED_DF_FILE):\n",
    "    print(\"Loading saved merged dataframe...\")\n",
    "    merged_df = pd.read_csv(MERGED_DF_FILE, index_col=0)\n",
    "else:\n",
    "    merged_df = pcoa_df.join(metadata, how=\"inner\")\n",
    "    if merged_df.empty:\n",
    "        print(\"WARNING: The merged dataframe is empty. Check sample IDs vs 'Run' in metadata.\")\n",
    "    merged_df.to_csv(MERGED_DF_FILE)\n",
    "    print(\"Merged dataframe computed and saved.\")"
   ]
  },
  {
   "cell_type": "markdown",
   "id": "d571d38b",
   "metadata": {},
   "source": [
    "## Precompute Zoom Bounds for Plotting"
   ]
  },
  {
   "cell_type": "code",
   "execution_count": 7,
   "id": "31a72de4",
   "metadata": {},
   "outputs": [],
   "source": [
    "x_min, x_max = merged_df[\"PC1\"].min(), merged_df[\"PC1\"].max()\n",
    "y_min, y_max = merged_df[\"PC2\"].min(), merged_df[\"PC2\"].max()\n",
    "x_center = 0.5 * (x_min + x_max)\n",
    "y_center = 0.5 * (y_min + y_max)\n",
    "x_half_range = 0.5 * (x_max - x_min)\n",
    "y_half_range = 0.5 * (y_max - y_min)"
   ]
  },
  {
   "cell_type": "markdown",
   "id": "e867f61d",
   "metadata": {},
   "source": [
    "## Define Plotting Function for Panel Interactivity"
   ]
  },
  {
   "cell_type": "code",
   "execution_count": 8,
   "id": "fd5e92fc",
   "metadata": {},
   "outputs": [],
   "source": [
    "def plot_pcoa(color_factor, shape_factor, show_names, marker_size, zoom, highlight_factor, highlight_cats, point_color=None, legend_marker_size=None):\n",
    "    fig, ax = plt.subplots(figsize=(10, 8))\n",
    "    \n",
    "    # Set default legend marker size if not provided\n",
    "    if legend_marker_size is None:\n",
    "        legend_marker_size = marker_size * 1.5\n",
    "\n",
    "    # Determine whether to use highlight mode\n",
    "    use_highlight = (highlight_factor is not None) and (highlight_factor in merged_df.columns) \\\n",
    "                    and (highlight_cats is not None) and (len(highlight_cats) > 0)\n",
    "    \n",
    "    if use_highlight:\n",
    "        others_df = merged_df[~merged_df[highlight_factor].isin(highlight_cats)]\n",
    "        highlight_df = merged_df[merged_df[highlight_factor].isin(highlight_cats)]\n",
    "        style_var = shape_factor if (shape_factor in merged_df.columns) else None\n",
    "        sns.scatterplot(data=others_df, x=\"PC1\", y=\"PC2\", color=\"lightgray\", style=style_var,\n",
    "                        s=marker_size, edgecolor=\"black\", zorder=1, ax=ax)\n",
    "        palette = sns.color_palette(\"tab10\", len(highlight_cats))\n",
    "        for i, cat in enumerate(highlight_cats):\n",
    "            sub = highlight_df[highlight_df[highlight_factor] == cat]\n",
    "            sns.scatterplot(data=sub, x=\"PC1\", y=\"PC2\", color=palette[i], style=style_var,\n",
    "                            s=marker_size, edgecolor=\"black\", zorder=2, ax=ax, label=f\"{highlight_factor}={cat}\")\n",
    "        if show_names:\n",
    "            for sample, row in highlight_df.iterrows():\n",
    "                x_val, y_val = row[\"PC1\"], row[\"PC2\"]\n",
    "                if np.isfinite(x_val) and np.isfinite(y_val):\n",
    "                    ax.text(x_val, y_val, sample, fontsize=9, ha=\"right\")\n",
    "        ax.set_title(f\"PCoA - Highlight: '{highlight_factor}' -> {highlight_cats}\")\n",
    "        ax.legend(bbox_to_anchor=(1.05, 1), loc=\"upper left\")\n",
    "    else:\n",
    "        # Use point_color if provided and no valid hue column is set.\n",
    "        if color_factor is None or color_factor == \"(None)\" or color_factor not in merged_df.columns:\n",
    "            scatter = sns.scatterplot(data=merged_df, x=\"PC1\", y=\"PC2\",\n",
    "                                      color=point_color if point_color is not None else \"blue\",\n",
    "                                      style=shape_factor if shape_factor != \"(None)\" and shape_factor in merged_df.columns else None,\n",
    "                                      s=marker_size, edgecolor=\"black\",\n",
    "                                      ax=ax)\n",
    "        else:\n",
    "            custom_palette = sns.color_palette(\"tab20\", 20)\n",
    "            scatter = sns.scatterplot(data=merged_df, x=\"PC1\", y=\"PC2\",\n",
    "                                      hue=color_factor, style=shape_factor if shape_factor != \"(None)\" and shape_factor in merged_df.columns else None,\n",
    "                                      s=marker_size, edgecolor=\"black\",\n",
    "                                      palette=custom_palette, ax=ax)\n",
    "        if show_names:\n",
    "            for sample, row in merged_df.iterrows():\n",
    "                x_val, y_val = row[\"PC1\"], row[\"PC2\"]\n",
    "                if np.isfinite(x_val) and np.isfinite(y_val):\n",
    "                    ax.text(x_val, y_val, sample, fontsize=9, ha=\"right\")\n",
    "        if used_pcoa and not np.allclose(prop_explained, [0, 0]):\n",
    "            xlabel = f\"PC1 ({prop_explained[0]*100:.2f}%)\"\n",
    "            ylabel = f\"PC2 ({prop_explained[1]*100:.2f}%)\"\n",
    "        else:\n",
    "            xlabel, ylabel = \"PC1\", \"PC2\"\n",
    "        ax.set_xlabel(xlabel)\n",
    "        ax.set_ylabel(ylabel)\n",
    "        ax.set_title(f\"PCoA Plot - Color={color_factor}, Shape={shape_factor}\")\n",
    "        ax.legend(bbox_to_anchor=(1.05, 1), loc=\"upper left\")\n",
    "    \n",
    "    # Increase legend marker sizes if legend exists (use legend_handles attribute)\n",
    "    leg = ax.get_legend()\n",
    "    if leg:\n",
    "        for handle in leg.legend_handles:\n",
    "            try:\n",
    "                handle.set_sizes([legend_marker_size])\n",
    "            except Exception:\n",
    "                pass\n",
    "\n",
    "    cur_x_half = x_half_range / zoom\n",
    "    cur_y_half = y_half_range / zoom\n",
    "    ax.set_xlim(x_center - cur_x_half, x_center + cur_x_half)\n",
    "    ax.set_ylim(y_center - cur_y_half, y_center + cur_y_half)\n",
    "    ax.grid(True)\n",
    "    plt.close(fig)\n",
    "    return fig"
   ]
  },
  {
   "cell_type": "markdown",
   "id": "871eba68",
   "metadata": {},
   "source": [
    "## Function to Save Plot as PNG"
   ]
  },
  {
   "cell_type": "code",
   "execution_count": 9,
   "id": "5b3b7ee9",
   "metadata": {},
   "outputs": [],
   "source": [
    "def save_plot_as_png(filename, color_factor, shape_factor, show_names, marker_size, zoom, highlight_factor, highlight_cats, point_color=None, legend_marker_size=None):\n",
    "    \"\"\"\n",
    "    Generate a PCoA/MDS plot using the provided parameters and save it as a PNG file.\n",
    "    \"\"\"\n",
    "    fig = plot_pcoa(color_factor, shape_factor, show_names, marker_size, zoom, highlight_factor, highlight_cats, point_color, legend_marker_size)\n",
    "    fig.savefig(filename, dpi=300, bbox_inches=\"tight\")\n",
    "    print(f\"Plot saved as PNG: {filename}\")"
   ]
  },
  {
   "cell_type": "markdown",
   "id": "43700159",
   "metadata": {},
   "source": [
    "## Panel Widgets setup"
   ]
  },
  {
   "cell_type": "code",
   "execution_count": 10,
   "id": "5f25dd9f",
   "metadata": {},
   "outputs": [
    {
     "name": "stderr",
     "output_type": "stream",
     "text": [
      "/tmp/ipykernel_39466/2439649316.py:57: UserWarning: No artists with labels found to put in legend.  Note that artists whose label start with an underscore are ignored when legend() is called with no argument.\n",
      "  ax.legend(bbox_to_anchor=(1.05, 1), loc=\"upper left\")\n"
     ]
    },
    {
     "data": {
      "text/plain": [
       "Watcher(inst=Button(button_type='primary', name='Save Plot as PNG'), cls=<class 'panel.widgets.button.Button'>, fn=<function on_save at 0x72be2246c720>, mode='args', onlychanged=False, parameter_names=('clicks',), what='value', queued=False, precedence=0)"
      ]
     },
     "execution_count": 10,
     "metadata": {},
     "output_type": "execute_result"
    }
   ],
   "source": [
    "color_dropdown = pn.widgets.Select(name=\"Select Color Factor\", options=[\"(None)\"] + list(metadata.columns), value=\"(None)\")\n",
    "shape_dropdown = pn.widgets.Select(name=\"Select Shape Factor\", options=[\"(None)\"] + list(metadata.columns), value=\"(None)\")\n",
    "show_names_checkbox = pn.widgets.Checkbox(name=\"Show Sample Names\", value=True)\n",
    "marker_size_slider = pn.widgets.IntSlider(name=\"Marker Size\", value=100, start=10, end=300, step=10)\n",
    "zoom_slider = pn.widgets.FloatSlider(name=\"Zoom\", value=1.0, start=0.2, end=3.0, step=0.1)\n",
    "legend_marker_size_slider = pn.widgets.IntSlider(name=\"Legend Marker Size\", value=150, start=10, end=500, step=10)\n",
    "highlight_factor_dropdown = pn.widgets.Select(name=\"Highlight Factor\", options=[\"(None)\"] + list(metadata.columns), value=\"(None)\")\n",
    "highlight_categories_widget = pn.widgets.MultiSelect(name=\"Highlight Categories\", options=[], size=6)\n",
    "\n",
    "def update_highlight_categories(event):\n",
    "    factor = event.new\n",
    "    if factor == \"(None)\":\n",
    "        highlight_categories_widget.options = []\n",
    "    else:\n",
    "        if factor in merged_df.columns:\n",
    "            cats = merged_df[factor].dropna().unique().tolist()\n",
    "            cats = sorted(map(str, cats))\n",
    "            highlight_categories_widget.options = cats\n",
    "        else:\n",
    "            highlight_categories_widget.options = []\n",
    "\n",
    "highlight_factor_dropdown.param.watch(update_highlight_categories, \"value\")\n",
    "\n",
    "# ============================================================\n",
    "# 8. Panel Callback & Layout\n",
    "# ============================================================\n",
    "def make_initial_figure():\n",
    "    return plot_pcoa(\n",
    "        color_factor=color_dropdown.value if color_dropdown.value != \"(None)\" else None,\n",
    "        shape_factor=shape_dropdown.value if shape_dropdown.value != \"(None)\" else None,\n",
    "        show_names=show_names_checkbox.value,\n",
    "        marker_size=marker_size_slider.value,\n",
    "        zoom=zoom_slider.value,\n",
    "        highlight_factor=None,\n",
    "        highlight_cats=None,\n",
    "        legend_marker_size=legend_marker_size_slider.value\n",
    "    )\n",
    "\n",
    "matplot_pane = pn.pane.Matplotlib(make_initial_figure(), tight=True)\n",
    "\n",
    "@pn.depends(color_dropdown.param.value,\n",
    "            shape_dropdown.param.value,\n",
    "            show_names_checkbox.param.value,\n",
    "            marker_size_slider.param.value,\n",
    "            zoom_slider.param.value,\n",
    "            legend_marker_size_slider.param.value,\n",
    "            highlight_factor_dropdown.param.value,\n",
    "            highlight_categories_widget.param.value)\n",
    "def update_plot(color_factor, shape_factor, show_names, marker_size, zoom, legend_marker_size, highlight_factor, highlight_cats):\n",
    "    if highlight_factor == \"(None)\":\n",
    "        highlight_factor = None\n",
    "    if color_factor == \"(None)\":\n",
    "        color_factor = None\n",
    "    if shape_factor == \"(None)\":\n",
    "        shape_factor = None\n",
    "    if not highlight_cats:\n",
    "        highlight_cats = []\n",
    "    fig = plot_pcoa(color_factor, shape_factor, show_names, marker_size, zoom, highlight_factor, highlight_cats, legend_marker_size=legend_marker_size)\n",
    "    matplot_pane.object = fig\n",
    "    return matplot_pane\n",
    "\n",
    "# Button to save the current plot as PNG\n",
    "save_button = pn.widgets.Button(name=\"Save Plot as PNG\", button_type=\"primary\")\n",
    "def on_save(event):\n",
    "    save_plot_as_png(\n",
    "        filename=\"pcoa_plot.png\",\n",
    "        color_factor=color_dropdown.value if color_dropdown.value != \"(None)\" else None,\n",
    "        shape_factor=shape_dropdown.value if shape_dropdown.value != \"(None)\" else None,\n",
    "        show_names=show_names_checkbox.value,\n",
    "        marker_size=marker_size_slider.value,\n",
    "        zoom=zoom_slider.value,\n",
    "        highlight_factor=highlight_factor_dropdown.value if highlight_factor_dropdown.value != \"(None)\" else None,\n",
    "        highlight_cats=highlight_categories_widget.value,\n",
    "        point_color=None,  # Change if you want a fixed color\n",
    "        legend_marker_size=legend_marker_size_slider.value\n",
    "    )\n",
    "save_button.on_click(on_save)"
   ]
  },
  {
   "cell_type": "code",
   "execution_count": 13,
   "id": "ec405d53",
   "metadata": {},
   "outputs": [],
   "source": [
    "import psutil"
   ]
  },
  {
   "cell_type": "code",
   "execution_count": null,
   "id": "2120dd15",
   "metadata": {},
   "outputs": [
    {
     "name": "stderr",
     "output_type": "stream",
     "text": [
      "WARNING:param.panel_extension: matplotlib extension not recognized and will be skipped.\n",
      "/tmp/ipykernel_39466/3977850568.py:1: UserWarning: Using Panel interactively in VSCode notebooks requires the jupyter_bokeh package to be installed. You can install it with:\n",
      "\n",
      "   pip install jupyter_bokeh\n",
      "\n",
      "or:\n",
      "    conda install jupyter_bokeh\n",
      "\n",
      "and try again.\n",
      "  pn.extension(\"matplotlib\")\n"
     ]
    },
    {
     "data": {
      "text/html": [
       "<script type=\"esms-options\">{\"shimMode\": true}</script><style>*[data-root-id],\n",
       "*[data-root-id] > * {\n",
       "  box-sizing: border-box;\n",
       "  font-family: var(--jp-ui-font-family);\n",
       "  font-size: var(--jp-ui-font-size1);\n",
       "  color: var(--vscode-editor-foreground, var(--jp-ui-font-color1));\n",
       "}\n",
       "\n",
       "/* Override VSCode background color */\n",
       ".cell-output-ipywidget-background:has(\n",
       "    > .cell-output-ipywidget-background > .lm-Widget > *[data-root-id]\n",
       "  ),\n",
       ".cell-output-ipywidget-background:has(> .lm-Widget > *[data-root-id]) {\n",
       "  background-color: transparent !important;\n",
       "}\n",
       "</style>"
      ]
     },
     "metadata": {},
     "output_type": "display_data"
    },
    {
     "data": {
      "application/javascript": "(function(root) {\n  function now() {\n    return new Date();\n  }\n\n  const force = true;\n  const py_version = '3.7.2'.replace('rc', '-rc.').replace('.dev', '-dev.');\n  const reloading = false;\n  const Bokeh = root.Bokeh;\n\n  // Set a timeout for this load but only if we are not already initializing\n  if (typeof (root._bokeh_timeout) === \"undefined\" || (force || !root._bokeh_is_initializing)) {\n    root._bokeh_timeout = Date.now() + 5000;\n    root._bokeh_failed_load = false;\n  }\n\n  function run_callbacks() {\n    try {\n      root._bokeh_onload_callbacks.forEach(function(callback) {\n        if (callback != null)\n          callback();\n      });\n    } finally {\n      delete root._bokeh_onload_callbacks;\n    }\n    console.debug(\"Bokeh: all callbacks have finished\");\n  }\n\n  function load_libs(css_urls, js_urls, js_modules, js_exports, callback) {\n    if (css_urls == null) css_urls = [];\n    if (js_urls == null) js_urls = [];\n    if (js_modules == null) js_modules = [];\n    if (js_exports == null) js_exports = {};\n\n    root._bokeh_onload_callbacks.push(callback);\n\n    if (root._bokeh_is_loading > 0) {\n      // Don't load bokeh if it is still initializing\n      console.debug(\"Bokeh: BokehJS is being loaded, scheduling callback at\", now());\n      return null;\n    } else if (js_urls.length === 0 && js_modules.length === 0 && Object.keys(js_exports).length === 0) {\n      // There is nothing to load\n      run_callbacks();\n      return null;\n    }\n\n    function on_load() {\n      root._bokeh_is_loading--;\n      if (root._bokeh_is_loading === 0) {\n        console.debug(\"Bokeh: all BokehJS libraries/stylesheets loaded\");\n        run_callbacks()\n      }\n    }\n    window._bokeh_on_load = on_load\n\n    function on_error(e) {\n      const src_el = e.srcElement\n      console.error(\"failed to load \" + (src_el.href || src_el.src));\n    }\n\n    const skip = [];\n    if (window.requirejs) {\n      window.requirejs.config({'packages': {}, 'paths': {}, 'shim': {}});\n      root._bokeh_is_loading = css_urls.length + 0;\n    } else {\n      root._bokeh_is_loading = css_urls.length + js_urls.length + js_modules.length + Object.keys(js_exports).length;\n    }\n\n    const existing_stylesheets = []\n    const links = document.getElementsByTagName('link')\n    for (let i = 0; i < links.length; i++) {\n      const link = links[i]\n      if (link.href != null) {\n        existing_stylesheets.push(link.href)\n      }\n    }\n    for (let i = 0; i < css_urls.length; i++) {\n      const url = css_urls[i];\n      const escaped = encodeURI(url)\n      if (existing_stylesheets.indexOf(escaped) !== -1) {\n        on_load()\n        continue;\n      }\n      const element = document.createElement(\"link\");\n      element.onload = on_load;\n      element.onerror = on_error;\n      element.rel = \"stylesheet\";\n      element.type = \"text/css\";\n      element.href = url;\n      console.debug(\"Bokeh: injecting link tag for BokehJS stylesheet: \", url);\n      document.body.appendChild(element);\n    }    var existing_scripts = []\n    const scripts = document.getElementsByTagName('script')\n    for (let i = 0; i < scripts.length; i++) {\n      var script = scripts[i]\n      if (script.src != null) {\n        existing_scripts.push(script.src)\n      }\n    }\n    for (let i = 0; i < js_urls.length; i++) {\n      const url = js_urls[i];\n      const escaped = encodeURI(url)\n      if (skip.indexOf(escaped) !== -1 || existing_scripts.indexOf(escaped) !== -1) {\n        if (!window.requirejs) {\n          on_load();\n        }\n        continue;\n      }\n      const element = document.createElement('script');\n      element.onload = on_load;\n      element.onerror = on_error;\n      element.async = false;\n      element.src = url;\n      console.debug(\"Bokeh: injecting script tag for BokehJS library: \", url);\n      document.head.appendChild(element);\n    }\n    for (let i = 0; i < js_modules.length; i++) {\n      const url = js_modules[i];\n      const escaped = encodeURI(url)\n      if (skip.indexOf(escaped) !== -1 || existing_scripts.indexOf(escaped) !== -1) {\n        if (!window.requirejs) {\n          on_load();\n        }\n        continue;\n      }\n      var element = document.createElement('script');\n      element.onload = on_load;\n      element.onerror = on_error;\n      element.async = false;\n      element.src = url;\n      element.type = \"module\";\n      console.debug(\"Bokeh: injecting script tag for BokehJS library: \", url);\n      document.head.appendChild(element);\n    }\n    for (const name in js_exports) {\n      const url = js_exports[name];\n      const escaped = encodeURI(url)\n      if (skip.indexOf(escaped) >= 0 || root[name] != null) {\n        if (!window.requirejs) {\n          on_load();\n        }\n        continue;\n      }\n      var element = document.createElement('script');\n      element.onerror = on_error;\n      element.async = false;\n      element.type = \"module\";\n      console.debug(\"Bokeh: injecting script tag for BokehJS library: \", url);\n      element.textContent = `\n      import ${name} from \"${url}\"\n      window.${name} = ${name}\n      window._bokeh_on_load()\n      `\n      document.head.appendChild(element);\n    }\n    if (!js_urls.length && !js_modules.length) {\n      on_load()\n    }\n  };\n\n  function inject_raw_css(css) {\n    const element = document.createElement(\"style\");\n    element.appendChild(document.createTextNode(css));\n    document.body.appendChild(element);\n  }\n\n  const js_urls = [\"https://cdn.holoviz.org/panel/1.6.2/dist/bundled/reactiveesm/es-module-shims@^1.10.0/dist/es-module-shims.min.js\", \"https://cdn.bokeh.org/bokeh/release/bokeh-3.7.2.min.js\", \"https://cdn.bokeh.org/bokeh/release/bokeh-gl-3.7.2.min.js\", \"https://cdn.bokeh.org/bokeh/release/bokeh-widgets-3.7.2.min.js\", \"https://cdn.bokeh.org/bokeh/release/bokeh-tables-3.7.2.min.js\", \"https://cdn.holoviz.org/panel/1.6.2/dist/panel.min.js\"];\n  const js_modules = [];\n  const js_exports = {};\n  const css_urls = [];\n  const inline_js = [    function(Bokeh) {\n      Bokeh.set_log_level(\"info\");\n    },\nfunction(Bokeh) {} // ensure no trailing comma for IE\n  ];\n\n  function run_inline_js() {\n    if ((root.Bokeh !== undefined) || (force === true)) {\n      for (let i = 0; i < inline_js.length; i++) {\n        try {\n          inline_js[i].call(root, root.Bokeh);\n        } catch(e) {\n          if (!reloading) {\n            throw e;\n          }\n        }\n      }\n      // Cache old bokeh versions\n      if (Bokeh != undefined && !reloading) {\n        var NewBokeh = root.Bokeh;\n        if (Bokeh.versions === undefined) {\n          Bokeh.versions = new Map();\n        }\n        if (NewBokeh.version !== Bokeh.version) {\n          Bokeh.versions.set(NewBokeh.version, NewBokeh)\n        }\n        root.Bokeh = Bokeh;\n      }\n    } else if (Date.now() < root._bokeh_timeout) {\n      setTimeout(run_inline_js, 100);\n    } else if (!root._bokeh_failed_load) {\n      console.log(\"Bokeh: BokehJS failed to load within specified timeout.\");\n      root._bokeh_failed_load = true;\n    }\n    root._bokeh_is_initializing = false\n  }\n\n  function load_or_wait() {\n    // Implement a backoff loop that tries to ensure we do not load multiple\n    // versions of Bokeh and its dependencies at the same time.\n    // In recent versions we use the root._bokeh_is_initializing flag\n    // to determine whether there is an ongoing attempt to initialize\n    // bokeh, however for backward compatibility we also try to ensure\n    // that we do not start loading a newer (Panel>=1.0 and Bokeh>3) version\n    // before older versions are fully initialized.\n    if (root._bokeh_is_initializing && Date.now() > root._bokeh_timeout) {\n      // If the timeout and bokeh was not successfully loaded we reset\n      // everything and try loading again\n      root._bokeh_timeout = Date.now() + 5000;\n      root._bokeh_is_initializing = false;\n      root._bokeh_onload_callbacks = undefined;\n      root._bokeh_is_loading = 0\n      console.log(\"Bokeh: BokehJS was loaded multiple times but one version failed to initialize.\");\n      load_or_wait();\n    } else if (root._bokeh_is_initializing || (typeof root._bokeh_is_initializing === \"undefined\" && root._bokeh_onload_callbacks !== undefined)) {\n      setTimeout(load_or_wait, 100);\n    } else {\n      root._bokeh_is_initializing = true\n      root._bokeh_onload_callbacks = []\n      const bokeh_loaded = root.Bokeh != null && (root.Bokeh.version === py_version || (root.Bokeh.versions !== undefined && root.Bokeh.versions.has(py_version)));\n      if (!reloading && !bokeh_loaded) {\n        if (root.Bokeh) {\n          root.Bokeh = undefined;\n        }\n        console.debug(\"Bokeh: BokehJS not loaded, scheduling load and callback at\", now());\n      }\n      load_libs(css_urls, js_urls, js_modules, js_exports, function() {\n        console.debug(\"Bokeh: BokehJS plotting callback run at\", now());\n        run_inline_js();\n      });\n    }\n  }\n  // Give older versions of the autoload script a head-start to ensure\n  // they initialize before we start loading newer version.\n  setTimeout(load_or_wait, 100)\n}(window));",
      "application/vnd.holoviews_load.v0+json": ""
     },
     "metadata": {},
     "output_type": "display_data"
    },
    {
     "data": {
      "application/javascript": "\nif ((window.PyViz === undefined) || (window.PyViz instanceof HTMLElement)) {\n  window.PyViz = {comms: {}, comm_status:{}, kernels:{}, receivers: {}, plot_index: []}\n}\n\n\n    function JupyterCommManager() {\n    }\n\n    JupyterCommManager.prototype.register_target = function(plot_id, comm_id, msg_handler) {\n      if (window.comm_manager || ((window.Jupyter !== undefined) && (Jupyter.notebook.kernel != null))) {\n        var comm_manager = window.comm_manager || Jupyter.notebook.kernel.comm_manager;\n        comm_manager.register_target(comm_id, function(comm) {\n          comm.on_msg(msg_handler);\n        });\n      } else if ((plot_id in window.PyViz.kernels) && (window.PyViz.kernels[plot_id])) {\n        window.PyViz.kernels[plot_id].registerCommTarget(comm_id, function(comm) {\n          comm.onMsg = msg_handler;\n        });\n      } else if (typeof google != 'undefined' && google.colab.kernel != null) {\n        google.colab.kernel.comms.registerTarget(comm_id, (comm) => {\n          var messages = comm.messages[Symbol.asyncIterator]();\n          function processIteratorResult(result) {\n            var message = result.value;\n            console.log(message)\n            var content = {data: message.data, comm_id};\n            var buffers = []\n            for (var buffer of message.buffers || []) {\n              buffers.push(new DataView(buffer))\n            }\n            var metadata = message.metadata || {};\n            var msg = {content, buffers, metadata}\n            msg_handler(msg);\n            return messages.next().then(processIteratorResult);\n          }\n          return messages.next().then(processIteratorResult);\n        })\n      }\n    }\n\n    JupyterCommManager.prototype.get_client_comm = function(plot_id, comm_id, msg_handler) {\n      if (comm_id in window.PyViz.comms) {\n        return window.PyViz.comms[comm_id];\n      } else if (window.comm_manager || ((window.Jupyter !== undefined) && (Jupyter.notebook.kernel != null))) {\n        var comm_manager = window.comm_manager || Jupyter.notebook.kernel.comm_manager;\n        var comm = comm_manager.new_comm(comm_id, {}, {}, {}, comm_id);\n        if (msg_handler) {\n          comm.on_msg(msg_handler);\n        }\n      } else if ((plot_id in window.PyViz.kernels) && (window.PyViz.kernels[plot_id])) {\n        var comm = window.PyViz.kernels[plot_id].connectToComm(comm_id);\n        comm.open();\n        if (msg_handler) {\n          comm.onMsg = msg_handler;\n        }\n      } else if (typeof google != 'undefined' && google.colab.kernel != null) {\n        var comm_promise = google.colab.kernel.comms.open(comm_id)\n        comm_promise.then((comm) => {\n          window.PyViz.comms[comm_id] = comm;\n          if (msg_handler) {\n            var messages = comm.messages[Symbol.asyncIterator]();\n            function processIteratorResult(result) {\n              var message = result.value;\n              var content = {data: message.data};\n              var metadata = message.metadata || {comm_id};\n              var msg = {content, metadata}\n              msg_handler(msg);\n              return messages.next().then(processIteratorResult);\n            }\n            return messages.next().then(processIteratorResult);\n          }\n        })\n        var sendClosure = (data, metadata, buffers, disposeOnDone) => {\n          return comm_promise.then((comm) => {\n            comm.send(data, metadata, buffers, disposeOnDone);\n          });\n        };\n        var comm = {\n          send: sendClosure\n        };\n      }\n      window.PyViz.comms[comm_id] = comm;\n      return comm;\n    }\n    window.PyViz.comm_manager = new JupyterCommManager();\n    \n\n\nvar JS_MIME_TYPE = 'application/javascript';\nvar HTML_MIME_TYPE = 'text/html';\nvar EXEC_MIME_TYPE = 'application/vnd.holoviews_exec.v0+json';\nvar CLASS_NAME = 'output';\n\n/**\n * Render data to the DOM node\n */\nfunction render(props, node) {\n  var div = document.createElement(\"div\");\n  var script = document.createElement(\"script\");\n  node.appendChild(div);\n  node.appendChild(script);\n}\n\n/**\n * Handle when a new output is added\n */\nfunction handle_add_output(event, handle) {\n  var output_area = handle.output_area;\n  var output = handle.output;\n  if ((output.data == undefined) || (!output.data.hasOwnProperty(EXEC_MIME_TYPE))) {\n    return\n  }\n  var id = output.metadata[EXEC_MIME_TYPE][\"id\"];\n  var toinsert = output_area.element.find(\".\" + CLASS_NAME.split(' ')[0]);\n  if (id !== undefined) {\n    var nchildren = toinsert.length;\n    var html_node = toinsert[nchildren-1].children[0];\n    html_node.innerHTML = output.data[HTML_MIME_TYPE];\n    var scripts = [];\n    var nodelist = html_node.querySelectorAll(\"script\");\n    for (var i in nodelist) {\n      if (nodelist.hasOwnProperty(i)) {\n        scripts.push(nodelist[i])\n      }\n    }\n\n    scripts.forEach( function (oldScript) {\n      var newScript = document.createElement(\"script\");\n      var attrs = [];\n      var nodemap = oldScript.attributes;\n      for (var j in nodemap) {\n        if (nodemap.hasOwnProperty(j)) {\n          attrs.push(nodemap[j])\n        }\n      }\n      attrs.forEach(function(attr) { newScript.setAttribute(attr.name, attr.value) });\n      newScript.appendChild(document.createTextNode(oldScript.innerHTML));\n      oldScript.parentNode.replaceChild(newScript, oldScript);\n    });\n    if (JS_MIME_TYPE in output.data) {\n      toinsert[nchildren-1].children[1].textContent = output.data[JS_MIME_TYPE];\n    }\n    output_area._hv_plot_id = id;\n    if ((window.Bokeh !== undefined) && (id in Bokeh.index)) {\n      window.PyViz.plot_index[id] = Bokeh.index[id];\n    } else {\n      window.PyViz.plot_index[id] = null;\n    }\n  } else if (output.metadata[EXEC_MIME_TYPE][\"server_id\"] !== undefined) {\n    var bk_div = document.createElement(\"div\");\n    bk_div.innerHTML = output.data[HTML_MIME_TYPE];\n    var script_attrs = bk_div.children[0].attributes;\n    for (var i = 0; i < script_attrs.length; i++) {\n      toinsert[toinsert.length - 1].childNodes[1].setAttribute(script_attrs[i].name, script_attrs[i].value);\n    }\n    // store reference to server id on output_area\n    output_area._bokeh_server_id = output.metadata[EXEC_MIME_TYPE][\"server_id\"];\n  }\n}\n\n/**\n * Handle when an output is cleared or removed\n */\nfunction handle_clear_output(event, handle) {\n  var id = handle.cell.output_area._hv_plot_id;\n  var server_id = handle.cell.output_area._bokeh_server_id;\n  if (((id === undefined) || !(id in PyViz.plot_index)) && (server_id !== undefined)) { return; }\n  var comm = window.PyViz.comm_manager.get_client_comm(\"hv-extension-comm\", \"hv-extension-comm\", function () {});\n  if (server_id !== null) {\n    comm.send({event_type: 'server_delete', 'id': server_id});\n    return;\n  } else if (comm !== null) {\n    comm.send({event_type: 'delete', 'id': id});\n  }\n  delete PyViz.plot_index[id];\n  if ((window.Bokeh !== undefined) & (id in window.Bokeh.index)) {\n    var doc = window.Bokeh.index[id].model.document\n    doc.clear();\n    const i = window.Bokeh.documents.indexOf(doc);\n    if (i > -1) {\n      window.Bokeh.documents.splice(i, 1);\n    }\n  }\n}\n\n/**\n * Handle kernel restart event\n */\nfunction handle_kernel_cleanup(event, handle) {\n  delete PyViz.comms[\"hv-extension-comm\"];\n  window.PyViz.plot_index = {}\n}\n\n/**\n * Handle update_display_data messages\n */\nfunction handle_update_output(event, handle) {\n  handle_clear_output(event, {cell: {output_area: handle.output_area}})\n  handle_add_output(event, handle)\n}\n\nfunction register_renderer(events, OutputArea) {\n  function append_mime(data, metadata, element) {\n    // create a DOM node to render to\n    var toinsert = this.create_output_subarea(\n    metadata,\n    CLASS_NAME,\n    EXEC_MIME_TYPE\n    );\n    this.keyboard_manager.register_events(toinsert);\n    // Render to node\n    var props = {data: data, metadata: metadata[EXEC_MIME_TYPE]};\n    render(props, toinsert[0]);\n    element.append(toinsert);\n    return toinsert\n  }\n\n  events.on('output_added.OutputArea', handle_add_output);\n  events.on('output_updated.OutputArea', handle_update_output);\n  events.on('clear_output.CodeCell', handle_clear_output);\n  events.on('delete.Cell', handle_clear_output);\n  events.on('kernel_ready.Kernel', handle_kernel_cleanup);\n\n  OutputArea.prototype.register_mime_type(EXEC_MIME_TYPE, append_mime, {\n    safe: true,\n    index: 0\n  });\n}\n\nif (window.Jupyter !== undefined) {\n  try {\n    var events = require('base/js/events');\n    var OutputArea = require('notebook/js/outputarea').OutputArea;\n    if (OutputArea.prototype.mime_types().indexOf(EXEC_MIME_TYPE) == -1) {\n      register_renderer(events, OutputArea);\n    }\n  } catch(err) {\n  }\n}\n",
      "application/vnd.holoviews_load.v0+json": ""
     },
     "metadata": {},
     "output_type": "display_data"
    },
    {
     "data": {
      "application/vnd.holoviews_exec.v0+json": "",
      "text/html": [
       "<div id='49d99f80-325e-4836-9343-a4e4ca763278'>\n",
       "  <div id=\"f3c6db0e-c44d-47b1-8696-7e50fcbe2c35\" data-root-id=\"49d99f80-325e-4836-9343-a4e4ca763278\" style=\"display: contents;\"></div>\n",
       "</div>\n",
       "<script type=\"application/javascript\">(function(root) {\n",
       "  var docs_json = {\"dee7afdf-14af-46a0-950a-3d2108f136ef\":{\"version\":\"3.7.2\",\"title\":\"Bokeh Application\",\"roots\":[{\"type\":\"object\",\"name\":\"panel.models.browser.BrowserInfo\",\"id\":\"49d99f80-325e-4836-9343-a4e4ca763278\"},{\"type\":\"object\",\"name\":\"panel.models.comm_manager.CommManager\",\"id\":\"ec656005-1965-473a-a523-29bd91908f07\",\"attributes\":{\"plot_id\":\"49d99f80-325e-4836-9343-a4e4ca763278\",\"comm_id\":\"bb065d8cfebf4d8da3417b3964439434\",\"client_comm_id\":\"ff674dc878aa43cc8f07904e82ec216e\"}}],\"defs\":[{\"type\":\"model\",\"name\":\"ReactiveHTML1\"},{\"type\":\"model\",\"name\":\"FlexBox1\",\"properties\":[{\"name\":\"align_content\",\"kind\":\"Any\",\"default\":\"flex-start\"},{\"name\":\"align_items\",\"kind\":\"Any\",\"default\":\"flex-start\"},{\"name\":\"flex_direction\",\"kind\":\"Any\",\"default\":\"row\"},{\"name\":\"flex_wrap\",\"kind\":\"Any\",\"default\":\"wrap\"},{\"name\":\"gap\",\"kind\":\"Any\",\"default\":\"\"},{\"name\":\"justify_content\",\"kind\":\"Any\",\"default\":\"flex-start\"}]},{\"type\":\"model\",\"name\":\"FloatPanel1\",\"properties\":[{\"name\":\"config\",\"kind\":\"Any\",\"default\":{\"type\":\"map\"}},{\"name\":\"contained\",\"kind\":\"Any\",\"default\":true},{\"name\":\"position\",\"kind\":\"Any\",\"default\":\"right-top\"},{\"name\":\"offsetx\",\"kind\":\"Any\",\"default\":null},{\"name\":\"offsety\",\"kind\":\"Any\",\"default\":null},{\"name\":\"theme\",\"kind\":\"Any\",\"default\":\"primary\"},{\"name\":\"status\",\"kind\":\"Any\",\"default\":\"normalized\"}]},{\"type\":\"model\",\"name\":\"GridStack1\",\"properties\":[{\"name\":\"ncols\",\"kind\":\"Any\",\"default\":null},{\"name\":\"nrows\",\"kind\":\"Any\",\"default\":null},{\"name\":\"allow_resize\",\"kind\":\"Any\",\"default\":true},{\"name\":\"allow_drag\",\"kind\":\"Any\",\"default\":true},{\"name\":\"state\",\"kind\":\"Any\",\"default\":[]}]},{\"type\":\"model\",\"name\":\"drag1\",\"properties\":[{\"name\":\"slider_width\",\"kind\":\"Any\",\"default\":5},{\"name\":\"slider_color\",\"kind\":\"Any\",\"default\":\"black\"},{\"name\":\"value\",\"kind\":\"Any\",\"default\":50}]},{\"type\":\"model\",\"name\":\"click1\",\"properties\":[{\"name\":\"terminal_output\",\"kind\":\"Any\",\"default\":\"\"},{\"name\":\"debug_name\",\"kind\":\"Any\",\"default\":\"\"},{\"name\":\"clears\",\"kind\":\"Any\",\"default\":0}]},{\"type\":\"model\",\"name\":\"FastWrapper1\",\"properties\":[{\"name\":\"object\",\"kind\":\"Any\",\"default\":null},{\"name\":\"style\",\"kind\":\"Any\",\"default\":null}]},{\"type\":\"model\",\"name\":\"NotificationArea1\",\"properties\":[{\"name\":\"js_events\",\"kind\":\"Any\",\"default\":{\"type\":\"map\"}},{\"name\":\"max_notifications\",\"kind\":\"Any\",\"default\":5},{\"name\":\"notifications\",\"kind\":\"Any\",\"default\":[]},{\"name\":\"position\",\"kind\":\"Any\",\"default\":\"bottom-right\"},{\"name\":\"_clear\",\"kind\":\"Any\",\"default\":0},{\"name\":\"types\",\"kind\":\"Any\",\"default\":[{\"type\":\"map\",\"entries\":[[\"type\",\"warning\"],[\"background\",\"#ffc107\"],[\"icon\",{\"type\":\"map\",\"entries\":[[\"className\",\"fas fa-exclamation-triangle\"],[\"tagName\",\"i\"],[\"color\",\"white\"]]}]]},{\"type\":\"map\",\"entries\":[[\"type\",\"info\"],[\"background\",\"#007bff\"],[\"icon\",{\"type\":\"map\",\"entries\":[[\"className\",\"fas fa-info-circle\"],[\"tagName\",\"i\"],[\"color\",\"white\"]]}]]}]}]},{\"type\":\"model\",\"name\":\"Notification\",\"properties\":[{\"name\":\"background\",\"kind\":\"Any\",\"default\":null},{\"name\":\"duration\",\"kind\":\"Any\",\"default\":3000},{\"name\":\"icon\",\"kind\":\"Any\",\"default\":null},{\"name\":\"message\",\"kind\":\"Any\",\"default\":\"\"},{\"name\":\"notification_type\",\"kind\":\"Any\",\"default\":null},{\"name\":\"_rendered\",\"kind\":\"Any\",\"default\":false},{\"name\":\"_destroyed\",\"kind\":\"Any\",\"default\":false}]},{\"type\":\"model\",\"name\":\"TemplateActions1\",\"properties\":[{\"name\":\"open_modal\",\"kind\":\"Any\",\"default\":0},{\"name\":\"close_modal\",\"kind\":\"Any\",\"default\":0}]},{\"type\":\"model\",\"name\":\"BootstrapTemplateActions1\",\"properties\":[{\"name\":\"open_modal\",\"kind\":\"Any\",\"default\":0},{\"name\":\"close_modal\",\"kind\":\"Any\",\"default\":0}]},{\"type\":\"model\",\"name\":\"TemplateEditor1\",\"properties\":[{\"name\":\"layout\",\"kind\":\"Any\",\"default\":[]}]},{\"type\":\"model\",\"name\":\"MaterialTemplateActions1\",\"properties\":[{\"name\":\"open_modal\",\"kind\":\"Any\",\"default\":0},{\"name\":\"close_modal\",\"kind\":\"Any\",\"default\":0}]},{\"type\":\"model\",\"name\":\"ReactiveESM1\",\"properties\":[{\"name\":\"esm_constants\",\"kind\":\"Any\",\"default\":{\"type\":\"map\"}}]},{\"type\":\"model\",\"name\":\"JSComponent1\",\"properties\":[{\"name\":\"esm_constants\",\"kind\":\"Any\",\"default\":{\"type\":\"map\"}}]},{\"type\":\"model\",\"name\":\"ReactComponent1\",\"properties\":[{\"name\":\"esm_constants\",\"kind\":\"Any\",\"default\":{\"type\":\"map\"}}]},{\"type\":\"model\",\"name\":\"AnyWidgetComponent1\",\"properties\":[{\"name\":\"esm_constants\",\"kind\":\"Any\",\"default\":{\"type\":\"map\"}}]},{\"type\":\"model\",\"name\":\"request_value1\",\"properties\":[{\"name\":\"fill\",\"kind\":\"Any\",\"default\":\"none\"},{\"name\":\"_synced\",\"kind\":\"Any\",\"default\":null},{\"name\":\"_request_sync\",\"kind\":\"Any\",\"default\":0}]}]}};\n",
       "  var render_items = [{\"docid\":\"dee7afdf-14af-46a0-950a-3d2108f136ef\",\"roots\":{\"49d99f80-325e-4836-9343-a4e4ca763278\":\"f3c6db0e-c44d-47b1-8696-7e50fcbe2c35\"},\"root_ids\":[\"49d99f80-325e-4836-9343-a4e4ca763278\"]}];\n",
       "  var docs = Object.values(docs_json)\n",
       "  if (!docs) {\n",
       "    return\n",
       "  }\n",
       "  const py_version = docs[0].version.replace('rc', '-rc.').replace('.dev', '-dev.')\n",
       "  async function embed_document(root) {\n",
       "    var Bokeh = get_bokeh(root)\n",
       "    await Bokeh.embed.embed_items_notebook(docs_json, render_items);\n",
       "    for (const render_item of render_items) {\n",
       "      for (const root_id of render_item.root_ids) {\n",
       "\tconst id_el = document.getElementById(root_id)\n",
       "\tif (id_el.children.length && id_el.children[0].hasAttribute('data-root-id')) {\n",
       "\t  const root_el = id_el.children[0]\n",
       "\t  root_el.id = root_el.id + '-rendered'\n",
       "\t  for (const child of root_el.children) {\n",
       "            // Ensure JupyterLab does not capture keyboard shortcuts\n",
       "            // see: https://jupyterlab.readthedocs.io/en/4.1.x/extension/notebook.html#keyboard-interaction-model\n",
       "\t    child.setAttribute('data-lm-suppress-shortcuts', 'true')\n",
       "\t  }\n",
       "\t}\n",
       "      }\n",
       "    }\n",
       "  }\n",
       "  function get_bokeh(root) {\n",
       "    if (root.Bokeh === undefined) {\n",
       "      return null\n",
       "    } else if (root.Bokeh.version !== py_version) {\n",
       "      if (root.Bokeh.versions === undefined || !root.Bokeh.versions.has(py_version)) {\n",
       "\treturn null\n",
       "      }\n",
       "      return root.Bokeh.versions.get(py_version);\n",
       "    } else if (root.Bokeh.version === py_version) {\n",
       "      return root.Bokeh\n",
       "    }\n",
       "    return null\n",
       "  }\n",
       "  function is_loaded(root) {\n",
       "    var Bokeh = get_bokeh(root)\n",
       "    return (Bokeh != null && Bokeh.Panel !== undefined)\n",
       "  }\n",
       "  if (is_loaded(root)) {\n",
       "    embed_document(root);\n",
       "  } else {\n",
       "    var attempts = 0;\n",
       "    var timer = setInterval(function(root) {\n",
       "      if (is_loaded(root)) {\n",
       "        clearInterval(timer);\n",
       "        embed_document(root);\n",
       "      } else if (document.readyState == \"complete\") {\n",
       "        attempts++;\n",
       "        if (attempts > 200) {\n",
       "          clearInterval(timer);\n",
       "\t  var Bokeh = get_bokeh(root)\n",
       "\t  if (Bokeh == null || Bokeh.Panel == null) {\n",
       "            console.warn(\"Panel: ERROR: Unable to run Panel code because Bokeh or Panel library is missing\");\n",
       "\t  } else {\n",
       "\t    console.warn(\"Panel: WARNING: Attempting to render but not all required libraries could be resolved.\")\n",
       "\t    embed_document(root)\n",
       "\t  }\n",
       "        }\n",
       "      }\n",
       "    }, 25, root)\n",
       "  }\n",
       "})(window);</script>"
      ]
     },
     "metadata": {
      "application/vnd.holoviews_exec.v0+json": {
       "id": "49d99f80-325e-4836-9343-a4e4ca763278"
      }
     },
     "output_type": "display_data"
    },
    {
     "name": "stderr",
     "output_type": "stream",
     "text": [
      "/tmp/ipykernel_39466/2439649316.py:40: UserWarning: The palette list has more values (20) than needed (2), which may not be intended.\n",
      "  scatter = sns.scatterplot(data=merged_df, x=\"PC1\", y=\"PC2\",\n"
     ]
    },
    {
     "name": "stdout",
     "output_type": "stream",
     "text": [
      "Launching server at http://localhost:37323\n"
     ]
    },
    {
     "name": "stderr",
     "output_type": "stream",
     "text": [
      "Gtk-Message: 18:37:33.159: Not loading module \"atk-bridge\": The functionality is provided by GTK natively. Please try to not load it.\n",
      "Exception in callback <_asyncio.TaskStepMethWrapper object at 0x72be22ef97e0>()\n",
      "handle: <Handle <_asyncio.TaskStepMethWrapper object at 0x72be22ef97e0>()>\n",
      "Traceback (most recent call last):\n",
      "  File \"/home/david-palecek/miniforge3/envs/biohap/lib/python3.13/asyncio/events.py\", line 89, in _run\n",
      "    self._context.run(self._callback, *self._args)\n",
      "    ~~~~~~~~~~~~~~~~~^^^^^^^^^^^^^^^^^^^^^^^^^^^^^\n",
      "RuntimeError: Cannot enter into task <Task pending name='Task-889' coro=<HTTP1ServerConnection._server_request_loop() running at /home/david-palecek/miniforge3/envs/biohap/lib/python3.13/site-packages/tornado/http1connection.py:811> cb=[_wrap_awaitable.<locals>.<lambda>() at /home/david-palecek/miniforge3/envs/biohap/lib/python3.13/site-packages/tornado/gen.py:851, IOLoop.add_future.<locals>.<lambda>() at /home/david-palecek/miniforge3/envs/biohap/lib/python3.13/site-packages/tornado/ioloop.py:699]> while another task <Task pending name='Task-4' coro=<Kernel.dispatch_queue() running at /home/david-palecek/miniforge3/envs/biohap/lib/python3.13/site-packages/ipykernel/kernelbase.py:545> cb=[_wrap_awaitable.<locals>.<lambda>() at /home/david-palecek/miniforge3/envs/biohap/lib/python3.13/site-packages/tornado/gen.py:851, IOLoop.add_future.<locals>.<lambda>() at /home/david-palecek/miniforge3/envs/biohap/lib/python3.13/site-packages/tornado/ioloop.py:699]> is being executed.\n",
      "Exception in callback <_asyncio.TaskStepMethWrapper object at 0x72be19002e90>()\n",
      "handle: <Handle <_asyncio.TaskStepMethWrapper object at 0x72be19002e90>()>\n",
      "Traceback (most recent call last):\n",
      "  File \"/home/david-palecek/miniforge3/envs/biohap/lib/python3.13/asyncio/events.py\", line 89, in _run\n",
      "    self._context.run(self._callback, *self._args)\n",
      "    ~~~~~~~~~~~~~~~~~^^^^^^^^^^^^^^^^^^^^^^^^^^^^^\n",
      "RuntimeError: Cannot enter into task <Task pending name='Task-890' coro=<PeriodicCallback._run() running at /home/david-palecek/miniforge3/envs/biohap/lib/python3.13/site-packages/tornado/ioloop.py:933> cb=[_wrap_awaitable.<locals>.<lambda>() at /home/david-palecek/miniforge3/envs/biohap/lib/python3.13/site-packages/tornado/gen.py:851, IOLoop.add_future.<locals>.<lambda>() at /home/david-palecek/miniforge3/envs/biohap/lib/python3.13/site-packages/tornado/ioloop.py:699]> while another task <Task pending name='Task-4' coro=<Kernel.dispatch_queue() running at /home/david-palecek/miniforge3/envs/biohap/lib/python3.13/site-packages/ipykernel/kernelbase.py:545> cb=[_wrap_awaitable.<locals>.<lambda>() at /home/david-palecek/miniforge3/envs/biohap/lib/python3.13/site-packages/tornado/gen.py:851, IOLoop.add_future.<locals>.<lambda>() at /home/david-palecek/miniforge3/envs/biohap/lib/python3.13/site-packages/tornado/ioloop.py:699]> is being executed.\n",
      "Exception in callback <_asyncio.TaskStepMethWrapper object at 0x72be22e2cb20>()\n",
      "handle: <Handle <_asyncio.TaskStepMethWrapper object at 0x72be22e2cb20>()>\n",
      "Traceback (most recent call last):\n",
      "  File \"/home/david-palecek/miniforge3/envs/biohap/lib/python3.13/asyncio/events.py\", line 89, in _run\n",
      "    self._context.run(self._callback, *self._args)\n",
      "    ~~~~~~~~~~~~~~~~~^^^^^^^^^^^^^^^^^^^^^^^^^^^^^\n",
      "RuntimeError: Cannot enter into task <Task pending name='Task-891' coro=<PeriodicCallback._run() running at /home/david-palecek/miniforge3/envs/biohap/lib/python3.13/site-packages/tornado/ioloop.py:933> cb=[_wrap_awaitable.<locals>.<lambda>() at /home/david-palecek/miniforge3/envs/biohap/lib/python3.13/site-packages/tornado/gen.py:851, IOLoop.add_future.<locals>.<lambda>() at /home/david-palecek/miniforge3/envs/biohap/lib/python3.13/site-packages/tornado/ioloop.py:699]> while another task <Task pending name='Task-4' coro=<Kernel.dispatch_queue() running at /home/david-palecek/miniforge3/envs/biohap/lib/python3.13/site-packages/ipykernel/kernelbase.py:545> cb=[_wrap_awaitable.<locals>.<lambda>() at /home/david-palecek/miniforge3/envs/biohap/lib/python3.13/site-packages/tornado/gen.py:851, IOLoop.add_future.<locals>.<lambda>() at /home/david-palecek/miniforge3/envs/biohap/lib/python3.13/site-packages/tornado/ioloop.py:699]> is being executed.\n"
     ]
    },
    {
     "data": {
      "text/plain": [
       "<panel.io.server.Server at 0x72be2244fb10>"
      ]
     },
     "execution_count": 12,
     "metadata": {},
     "output_type": "execute_result"
    }
   ],
   "source": [
    "pn.extension()\n",
    "app = pn.Column(\n",
    "    pn.Row(\n",
    "        pn.Column(\"<br/>**Normal Coloring**<br/>\", color_dropdown, shape_dropdown),\n",
    "        pn.Column(\"<br/>**Highlight**<br/>\", highlight_factor_dropdown, highlight_categories_widget)\n",
    "    ),\n",
    "    pn.Row(show_names_checkbox, marker_size_slider, zoom_slider, legend_marker_size_slider),\n",
    "    update_plot,\n",
    "    save_button\n",
    ")\n",
    "\n",
    "if psutil.users() == []:\n",
    "    print('Binder app')\n",
    "    app.servable()\n",
    "else:\n",
    "    print('Local app')\n",
    "    # Run the app locally\n",
    "    pn.serve(app, start=True, show=True)"
   ]
  },
  {
   "cell_type": "code",
   "execution_count": null,
   "id": "b329cb5a",
   "metadata": {},
   "outputs": [],
   "source": []
  }
 ],
 "metadata": {
  "kernelspec": {
   "display_name": "biohap",
   "language": "python",
   "name": "biohap"
  },
  "language_info": {
   "codemirror_mode": {
    "name": "ipython",
    "version": 3
   },
   "file_extension": ".py",
   "mimetype": "text/x-python",
   "name": "python",
   "nbconvert_exporter": "python",
   "pygments_lexer": "ipython3",
   "version": "3.13.2"
  }
 },
 "nbformat": 4,
 "nbformat_minor": 5
}
